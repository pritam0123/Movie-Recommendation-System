{
  "cells": [
    {
      "metadata": {
        "trusted": true
      },
      "cell_type": "markdown",
      "source": "## Collaborative Filtering"
    },
    {
      "metadata": {
        "trusted": true
      },
      "cell_type": "code",
      "source": "import pandas as pd\nfrom scipy import sparse\nfrom sklearn.metrics.pairwise import cosine_similarity",
      "execution_count": 1,
      "outputs": []
    },
    {
      "metadata": {
        "trusted": true
      },
      "cell_type": "code",
      "source": "ratings = pd.read_csv(\"toy_dataset.csv\")\nratings",
      "execution_count": 2,
      "outputs": [
        {
          "output_type": "execute_result",
          "execution_count": 2,
          "data": {
            "text/html": "<div>\n<style scoped>\n    .dataframe tbody tr th:only-of-type {\n        vertical-align: middle;\n    }\n\n    .dataframe tbody tr th {\n        vertical-align: top;\n    }\n\n    .dataframe thead th {\n        text-align: right;\n    }\n</style>\n<table border=\"1\" class=\"dataframe\">\n  <thead>\n    <tr style=\"text-align: right;\">\n      <th></th>\n      <th>Unnamed: 0</th>\n      <th>action1</th>\n      <th>action2</th>\n      <th>action3</th>\n      <th>romantic1</th>\n      <th>romantic2</th>\n      <th>romantic3</th>\n    </tr>\n  </thead>\n  <tbody>\n    <tr>\n      <th>0</th>\n      <td>user 1</td>\n      <td>4.0</td>\n      <td>5.0</td>\n      <td>3.0</td>\n      <td>NaN</td>\n      <td>2.0</td>\n      <td>1.0</td>\n    </tr>\n    <tr>\n      <th>1</th>\n      <td>user 2</td>\n      <td>5.0</td>\n      <td>3.0</td>\n      <td>3.0</td>\n      <td>2.0</td>\n      <td>2.0</td>\n      <td>NaN</td>\n    </tr>\n    <tr>\n      <th>2</th>\n      <td>user 3</td>\n      <td>1.0</td>\n      <td>NaN</td>\n      <td>NaN</td>\n      <td>4.0</td>\n      <td>5.0</td>\n      <td>4.0</td>\n    </tr>\n    <tr>\n      <th>3</th>\n      <td>user 4</td>\n      <td>NaN</td>\n      <td>2.0</td>\n      <td>1.0</td>\n      <td>4.0</td>\n      <td>NaN</td>\n      <td>3.0</td>\n    </tr>\n    <tr>\n      <th>4</th>\n      <td>user 5</td>\n      <td>1.0</td>\n      <td>NaN</td>\n      <td>2.0</td>\n      <td>3.0</td>\n      <td>3.0</td>\n      <td>4.0</td>\n    </tr>\n  </tbody>\n</table>\n</div>",
            "text/plain": "  Unnamed: 0  action1  action2  action3  romantic1  romantic2  romantic3\n0     user 1      4.0      5.0      3.0        NaN        2.0        1.0\n1     user 2      5.0      3.0      3.0        2.0        2.0        NaN\n2     user 3      1.0      NaN      NaN        4.0        5.0        4.0\n3     user 4      NaN      2.0      1.0        4.0        NaN        3.0\n4     user 5      1.0      NaN      2.0        3.0        3.0        4.0"
          },
          "metadata": {}
        }
      ]
    },
    {
      "metadata": {
        "trusted": true
      },
      "cell_type": "code",
      "source": "ratings = pd.read_csv(\"toy_dataset.csv\",index_col=0)\nratings = ratings.fillna(0)\nratings",
      "execution_count": 3,
      "outputs": [
        {
          "output_type": "execute_result",
          "execution_count": 3,
          "data": {
            "text/html": "<div>\n<style scoped>\n    .dataframe tbody tr th:only-of-type {\n        vertical-align: middle;\n    }\n\n    .dataframe tbody tr th {\n        vertical-align: top;\n    }\n\n    .dataframe thead th {\n        text-align: right;\n    }\n</style>\n<table border=\"1\" class=\"dataframe\">\n  <thead>\n    <tr style=\"text-align: right;\">\n      <th></th>\n      <th>action1</th>\n      <th>action2</th>\n      <th>action3</th>\n      <th>romantic1</th>\n      <th>romantic2</th>\n      <th>romantic3</th>\n    </tr>\n  </thead>\n  <tbody>\n    <tr>\n      <th>user 1</th>\n      <td>4.0</td>\n      <td>5.0</td>\n      <td>3.0</td>\n      <td>0.0</td>\n      <td>2.0</td>\n      <td>1.0</td>\n    </tr>\n    <tr>\n      <th>user 2</th>\n      <td>5.0</td>\n      <td>3.0</td>\n      <td>3.0</td>\n      <td>2.0</td>\n      <td>2.0</td>\n      <td>0.0</td>\n    </tr>\n    <tr>\n      <th>user 3</th>\n      <td>1.0</td>\n      <td>0.0</td>\n      <td>0.0</td>\n      <td>4.0</td>\n      <td>5.0</td>\n      <td>4.0</td>\n    </tr>\n    <tr>\n      <th>user 4</th>\n      <td>0.0</td>\n      <td>2.0</td>\n      <td>1.0</td>\n      <td>4.0</td>\n      <td>0.0</td>\n      <td>3.0</td>\n    </tr>\n    <tr>\n      <th>user 5</th>\n      <td>1.0</td>\n      <td>0.0</td>\n      <td>2.0</td>\n      <td>3.0</td>\n      <td>3.0</td>\n      <td>4.0</td>\n    </tr>\n  </tbody>\n</table>\n</div>",
            "text/plain": "        action1  action2  action3  romantic1  romantic2  romantic3\nuser 1      4.0      5.0      3.0        0.0        2.0        1.0\nuser 2      5.0      3.0      3.0        2.0        2.0        0.0\nuser 3      1.0      0.0      0.0        4.0        5.0        4.0\nuser 4      0.0      2.0      1.0        4.0        0.0        3.0\nuser 5      1.0      0.0      2.0        3.0        3.0        4.0"
          },
          "metadata": {}
        }
      ]
    },
    {
      "metadata": {
        "trusted": true
      },
      "cell_type": "code",
      "source": "##creating a standardize method\ndef standardize(row):\n    new_row = (row - row.mean())/(row.max() - row.min())\n    return new_row\n\nratings_std = ratings.apply(standardize)\n\n\n##we are taking a transpose since we want similarity between items which need to be in rows\nitem_similarity = cosine_similarity(ratings_std.T)\nprint(item_similarity)",
      "execution_count": 4,
      "outputs": [
        {
          "output_type": "stream",
          "text": "[[ 1.          0.70668875  0.81368151 -0.79941088 -0.02539184 -0.91410609]\n [ 0.70668875  1.          0.72310153 -0.84515425 -0.5189993  -0.84337386]\n [ 0.81368151  0.72310153  1.         -0.84794611 -0.3799803  -0.80218063]\n [-0.79941088 -0.84515425 -0.84794611  1.          0.14803913  0.72374686]\n [-0.02539184 -0.5189993  -0.3799803   0.14803913  1.          0.39393939]\n [-0.91410609 -0.84337386 -0.80218063  0.72374686  0.39393939  1.        ]]\n",
          "name": "stdout"
        }
      ]
    },
    {
      "metadata": {
        "trusted": true
      },
      "cell_type": "code",
      "source": "item_similarity_df = pd.DataFrame(item_similarity,index=ratings.columns,columns=ratings.columns)\nitem_similarity_df",
      "execution_count": 5,
      "outputs": [
        {
          "output_type": "execute_result",
          "execution_count": 5,
          "data": {
            "text/html": "<div>\n<style scoped>\n    .dataframe tbody tr th:only-of-type {\n        vertical-align: middle;\n    }\n\n    .dataframe tbody tr th {\n        vertical-align: top;\n    }\n\n    .dataframe thead th {\n        text-align: right;\n    }\n</style>\n<table border=\"1\" class=\"dataframe\">\n  <thead>\n    <tr style=\"text-align: right;\">\n      <th></th>\n      <th>action1</th>\n      <th>action2</th>\n      <th>action3</th>\n      <th>romantic1</th>\n      <th>romantic2</th>\n      <th>romantic3</th>\n    </tr>\n  </thead>\n  <tbody>\n    <tr>\n      <th>action1</th>\n      <td>1.000000</td>\n      <td>0.706689</td>\n      <td>0.813682</td>\n      <td>-0.799411</td>\n      <td>-0.025392</td>\n      <td>-0.914106</td>\n    </tr>\n    <tr>\n      <th>action2</th>\n      <td>0.706689</td>\n      <td>1.000000</td>\n      <td>0.723102</td>\n      <td>-0.845154</td>\n      <td>-0.518999</td>\n      <td>-0.843374</td>\n    </tr>\n    <tr>\n      <th>action3</th>\n      <td>0.813682</td>\n      <td>0.723102</td>\n      <td>1.000000</td>\n      <td>-0.847946</td>\n      <td>-0.379980</td>\n      <td>-0.802181</td>\n    </tr>\n    <tr>\n      <th>romantic1</th>\n      <td>-0.799411</td>\n      <td>-0.845154</td>\n      <td>-0.847946</td>\n      <td>1.000000</td>\n      <td>0.148039</td>\n      <td>0.723747</td>\n    </tr>\n    <tr>\n      <th>romantic2</th>\n      <td>-0.025392</td>\n      <td>-0.518999</td>\n      <td>-0.379980</td>\n      <td>0.148039</td>\n      <td>1.000000</td>\n      <td>0.393939</td>\n    </tr>\n    <tr>\n      <th>romantic3</th>\n      <td>-0.914106</td>\n      <td>-0.843374</td>\n      <td>-0.802181</td>\n      <td>0.723747</td>\n      <td>0.393939</td>\n      <td>1.000000</td>\n    </tr>\n  </tbody>\n</table>\n</div>",
            "text/plain": "            action1   action2   action3  romantic1  romantic2  romantic3\naction1    1.000000  0.706689  0.813682  -0.799411  -0.025392  -0.914106\naction2    0.706689  1.000000  0.723102  -0.845154  -0.518999  -0.843374\naction3    0.813682  0.723102  1.000000  -0.847946  -0.379980  -0.802181\nromantic1 -0.799411 -0.845154 -0.847946   1.000000   0.148039   0.723747\nromantic2 -0.025392 -0.518999 -0.379980   0.148039   1.000000   0.393939\nromantic3 -0.914106 -0.843374 -0.802181   0.723747   0.393939   1.000000"
          },
          "metadata": {}
        }
      ]
    },
    {
      "metadata": {
        "trusted": true
      },
      "cell_type": "code",
      "source": "##Making Recommendations\ndef get_similar_movies(movie_name,user_rating):\n    similar_score = item_similarity_df[movie_name]*(user_rating-2.5) \n    similar_score = similar_score.sort_values(ascending=False)\n    \n    return similar_score\nprint(get_similar_movies(\"action1\",1))",
      "execution_count": 6,
      "outputs": [
        {
          "output_type": "stream",
          "text": "romantic3    1.371159\nromantic1    1.199116\nromantic2    0.038088\naction2     -1.060033\naction3     -1.220522\naction1     -1.500000\nName: action1, dtype: float64\n",
          "name": "stdout"
        }
      ]
    },
    {
      "metadata": {
        "trusted": true
      },
      "cell_type": "code",
      "source": "##created a user as action_pritam\naction_pritam = [(\"action1\",4),(\"romantic2\",1),(\"romantic3\",5)]\n\nsimilar_movies = pd.DataFrame()\n\nfor movie,rating in action_pritam:\n    similar_movies = similar_movies.append(get_similar_movies(movie,rating),ignore_index=True)\nsimilar_movies.head()\nsimilar_movies.sum().sort_values(ascending=False)\n    ",
      "execution_count": 8,
      "outputs": [
        {
          "output_type": "execute_result",
          "execution_count": 8,
          "data": {
            "text/plain": "romantic3    0.537932\nromantic1    0.388192\naction3     -0.214959\naction2     -0.269903\nromantic2   -0.553239\naction1     -0.747177\ndtype: float64"
          },
          "metadata": {}
        }
      ]
    },
    {
      "metadata": {
        "trusted": true
      },
      "cell_type": "code",
      "source": "",
      "execution_count": null,
      "outputs": []
    },
    {
      "metadata": {
        "trusted": true
      },
      "cell_type": "code",
      "source": "",
      "execution_count": null,
      "outputs": []
    }
  ],
  "metadata": {
    "kernelspec": {
      "name": "python36",
      "display_name": "Python 3.6",
      "language": "python"
    },
    "language_info": {
      "mimetype": "text/x-python",
      "nbconvert_exporter": "python",
      "name": "python",
      "pygments_lexer": "ipython3",
      "version": "3.6.6",
      "file_extension": ".py",
      "codemirror_mode": {
        "version": 3,
        "name": "ipython"
      }
    }
  },
  "nbformat": 4,
  "nbformat_minor": 2
}